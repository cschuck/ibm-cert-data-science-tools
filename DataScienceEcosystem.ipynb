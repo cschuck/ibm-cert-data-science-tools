{
 "cells": [
  {
   "cell_type": "markdown",
   "source": [
    "# Data Science Tools and Ecosystem"
   ],
   "metadata": {
    "collapsed": false
   },
   "id": "e07c40f3c7f6206e"
  },
  {
   "cell_type": "markdown",
   "source": [
    "In this notebook, Data Science Tools and Ecosystem are summarized."
   ],
   "metadata": {
    "collapsed": false
   },
   "id": "93a96cc43c0dd376"
  },
  {
   "cell_type": "markdown",
   "source": [
    "**Objectives:**\n",
    "- Illustrate some aspects of markdown formatting.\n",
    "- List popular languages for Data Science\n",
    "- List some common libraries used in Data Science.\n",
    "- List some open source Data Science development environments.\n",
    "- Demonstrate some basic arithmetic operations using Python."
   ],
   "metadata": {
    "collapsed": false
   },
   "id": "6c0709a6a16d90ec"
  },
  {
   "cell_type": "markdown",
   "source": [
    "Some of the popular languages that Data Scientists use are:\n",
    "1. Python\n",
    "2. R\n",
    "3. Julia"
   ],
   "metadata": {
    "collapsed": false
   },
   "id": "cc9fb319699f6b2c"
  },
  {
   "cell_type": "markdown",
   "source": [
    "Some of the commonly used libraries by Data Scientists include:\n",
    "1. numpy\n",
    "2. ggplot2\n",
    "3. scikit-learn"
   ],
   "metadata": {
    "collapsed": false
   },
   "id": "402c8153d169e44b"
  },
  {
   "cell_type": "markdown",
   "source": [
    "| Data Science Tools |\n",
    "|--------------------|\n",
    "| RStudio            |\n",
    "| Jupyter Notebook   |\n",
    "| Apache Zeppelin    |"
   ],
   "metadata": {
    "collapsed": false
   },
   "id": "885886e9ecbda24e"
  },
  {
   "cell_type": "markdown",
   "source": [
    "### Below are a few examples of evaluating arithmetic expressions in Python."
   ],
   "metadata": {
    "collapsed": false
   },
   "id": "d78299b12c0a9d58"
  },
  {
   "cell_type": "code",
   "outputs": [
    {
     "data": {
      "text/plain": "17"
     },
     "execution_count": 4,
     "metadata": {},
     "output_type": "execute_result"
    }
   ],
   "source": [
    "# This is a simple arithmetic expression to multiply and then add integers.\n",
    "(3 * 4) + 5"
   ],
   "metadata": {
    "collapsed": false,
    "ExecuteTime": {
     "end_time": "2024-03-31T16:27:15.468536Z",
     "start_time": "2024-03-31T16:27:15.465809Z"
    }
   },
   "id": "c65161bd052dede1",
   "execution_count": 4
  },
  {
   "cell_type": "code",
   "outputs": [
    {
     "name": "stdout",
     "output_type": "stream",
     "text": [
      "hours: 3, minutes: 20, seconds: 0\n"
     ]
    }
   ],
   "source": [
    "# This will convert 200 minutes to hours, minutes, and seconds by first dividing by 60\n",
    "# followed by more manipulations to get minutes and seconds.\n",
    "hours_in_decimal = 200 / 60\n",
    "decimal_part = hours_in_decimal % 1\n",
    "hours = int(hours_in_decimal)\n",
    "minutes = int(decimal_part * 60)\n",
    "seconds = int(round((decimal_part * 60) % 1, 2) * 60)\n",
    "print('hours: ' + str(hours) + ', minutes: ' + str(minutes) + ', seconds: ' + str(seconds))"
   ],
   "metadata": {
    "collapsed": false,
    "ExecuteTime": {
     "end_time": "2024-03-31T16:29:19.203772Z",
     "start_time": "2024-03-31T16:29:19.199867Z"
    }
   },
   "id": "f2f0548da89052ef",
   "execution_count": 5
  },
  {
   "cell_type": "markdown",
   "source": [
    "## Author\n",
    "Christopher Schuck"
   ],
   "metadata": {
    "collapsed": false
   },
   "id": "18170bd1faa68fe0"
  },
  {
   "cell_type": "code",
   "outputs": [],
   "source": [],
   "metadata": {
    "collapsed": false
   },
   "id": "2439629c67a9ae5a"
  }
 ],
 "metadata": {
  "kernelspec": {
   "display_name": "Python 3",
   "language": "python",
   "name": "python3"
  },
  "language_info": {
   "codemirror_mode": {
    "name": "ipython",
    "version": 2
   },
   "file_extension": ".py",
   "mimetype": "text/x-python",
   "name": "python",
   "nbconvert_exporter": "python",
   "pygments_lexer": "ipython2",
   "version": "2.7.6"
  }
 },
 "nbformat": 4,
 "nbformat_minor": 5
}
